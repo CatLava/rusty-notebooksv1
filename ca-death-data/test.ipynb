{
 "cells": [
  {
   "cell_type": "code",
   "execution_count": 2,
   "id": "e72cac91",
   "metadata": {},
   "outputs": [],
   "source": [
    ":dep polars = {version = \"0.40.0\", features = [\"lazy\",]}\n",
    "use polars::prelude::*;"
   ]
  },
  {
   "cell_type": "code",
   "execution_count": 3,
   "id": "1d388210",
   "metadata": {},
   "outputs": [
    {
     "name": "stdout",
     "output_type": "stream",
     "text": [
      "shape: (40_032, 12)\n",
      "┌──────┬───────┬──────────────┬──────────────┬───┬───────┬─────────────┬─────────────┬─────────────┐\n",
      "│ Year ┆ Month ┆ Geography_Ty ┆ Strata       ┆ … ┆ Count ┆ Annotation_ ┆ Annotation_ ┆ Data_Revisi │\n",
      "│ ---  ┆ ---   ┆ pe           ┆ ---          ┆   ┆ ---   ┆ Code        ┆ Desc        ┆ on_Date     │\n",
      "│ i64  ┆ i64   ┆ ---          ┆ str          ┆   ┆ i64   ┆ ---         ┆ ---         ┆ ---         │\n",
      "│      ┆       ┆ str          ┆              ┆   ┆       ┆ i64         ┆ str         ┆ str         │\n",
      "╞══════╪═══════╪══════════════╪══════════════╪═══╪═══════╪═════════════╪═════════════╪═════════════╡\n",
      "│ 2014 ┆ 1     ┆ Occurrence   ┆ Total        ┆ … ┆ 23896 ┆ null        ┆ null        ┆ 12/06/2023  │\n",
      "│      ┆       ┆              ┆ Population   ┆   ┆       ┆             ┆             ┆             │\n",
      "│ 2014 ┆ 1     ┆ Occurrence   ┆ Age          ┆ … ┆ 185   ┆ null        ┆ null        ┆ 12/06/2023  │\n",
      "│ 2014 ┆ 1     ┆ Occurrence   ┆ Age          ┆ … ┆ 30    ┆ null        ┆ null        ┆ 12/06/2023  │\n",
      "│ 2014 ┆ 1     ┆ Occurrence   ┆ Age          ┆ … ┆ 47    ┆ null        ┆ null        ┆ 12/06/2023  │\n",
      "│ 2014 ┆ 1     ┆ Occurrence   ┆ Age          ┆ … ┆ 268   ┆ null        ┆ null        ┆ 12/06/2023  │\n",
      "│ …    ┆ …     ┆ …            ┆ …            ┆ … ┆ …     ┆ …           ┆ …           ┆ …           │\n",
      "│ 2022 ┆ 12    ┆ Residence    ┆ Race-Ethnici ┆ … ┆ null  ┆ 1           ┆ Cell        ┆ 12/06/2023  │\n",
      "│      ┆       ┆              ┆ ty           ┆   ┆       ┆             ┆ suppressed  ┆             │\n",
      "│      ┆       ┆              ┆              ┆   ┆       ┆             ┆ for small   ┆             │\n",
      "│      ┆       ┆              ┆              ┆   ┆       ┆             ┆ numb…       ┆             │\n",
      "│ 2022 ┆ 12    ┆ Residence    ┆ Race-Ethnici ┆ … ┆ 76    ┆ null        ┆ null        ┆ 12/06/2023  │\n",
      "│      ┆       ┆              ┆ ty           ┆   ┆       ┆             ┆             ┆             │\n",
      "│ 2022 ┆ 12    ┆ Residence    ┆ Race-Ethnici ┆ … ┆ null  ┆ 1           ┆ Cell        ┆ 12/06/2023  │\n",
      "│      ┆       ┆              ┆ ty           ┆   ┆       ┆             ┆ suppressed  ┆             │\n",
      "│      ┆       ┆              ┆              ┆   ┆       ┆             ┆ for small   ┆             │\n",
      "│      ┆       ┆              ┆              ┆   ┆       ┆             ┆ numb…       ┆             │\n",
      "│ 2022 ┆ 12    ┆ Residence    ┆ Race-Ethnici ┆ … ┆ 199   ┆ null        ┆ null        ┆ 12/06/2023  │\n",
      "│      ┆       ┆              ┆ ty           ┆   ┆       ┆             ┆             ┆             │\n",
      "│ 2022 ┆ 12    ┆ Residence    ┆ Race-Ethnici ┆ … ┆ null  ┆ 1           ┆ Cell        ┆ 12/06/2023  │\n",
      "│      ┆       ┆              ┆ ty           ┆   ┆       ┆             ┆ suppressed  ┆             │\n",
      "│      ┆       ┆              ┆              ┆   ┆       ┆             ┆ for small   ┆             │\n",
      "│      ┆       ┆              ┆              ┆   ┆       ┆             ┆ numb…       ┆             │\n",
      "└──────┴───────┴──────────────┴──────────────┴───┴───────┴─────────────┴─────────────┴─────────────┘\n"
     ]
    }
   ],
   "source": [
    "let q = LazyCsvReader::new(\"src/20231206_deaths_final_2014_2022_state_month_sup.csv\")\n",
    "    .with_has_header(true)\n",
    "    .finish()?;\n",
    "let df = q.collect()?;\n",
    "println!(\"{}\", df);"
   ]
  },
  {
   "cell_type": "code",
   "execution_count": 4,
   "id": "4c79f980",
   "metadata": {},
   "outputs": [
    {
     "name": "stdout",
     "output_type": "stream",
     "text": [
      "shape: (40_032, 5)\n",
      "┌──────────────────┬───────────────────────────┬──────┬───────┬───────┐\n",
      "│ Strata           ┆ Strata_Name               ┆ Year ┆ Month ┆ Count │\n",
      "│ ---              ┆ ---                       ┆ ---  ┆ ---   ┆ ---   │\n",
      "│ str              ┆ str                       ┆ i64  ┆ i64   ┆ i64   │\n",
      "╞══════════════════╪═══════════════════════════╪══════╪═══════╪═══════╡\n",
      "│ Total Population ┆ Total Population          ┆ 2014 ┆ 1     ┆ 23896 │\n",
      "│ Age              ┆ Under 1 year              ┆ 2014 ┆ 1     ┆ 185   │\n",
      "│ Age              ┆ 1-4 years                 ┆ 2014 ┆ 1     ┆ 30    │\n",
      "│ Age              ┆ 5-14 years                ┆ 2014 ┆ 1     ┆ 47    │\n",
      "│ Age              ┆ 15-24 years               ┆ 2014 ┆ 1     ┆ 268   │\n",
      "│ …                ┆ …                         ┆ …    ┆ …     ┆ …     │\n",
      "│ Race-Ethnicity   ┆ Hawaiian/Pacific Islander ┆ 2022 ┆ 12    ┆ null  │\n",
      "│ Race-Ethnicity   ┆ Hispanic                  ┆ 2022 ┆ 12    ┆ 76    │\n",
      "│ Race-Ethnicity   ┆ Multi-Race                ┆ 2022 ┆ 12    ┆ null  │\n",
      "│ Race-Ethnicity   ┆ White                     ┆ 2022 ┆ 12    ┆ 199   │\n",
      "│ Race-Ethnicity   ┆ Other/Unknown             ┆ 2022 ┆ 12    ┆ null  │\n",
      "└──────────────────┴───────────────────────────┴──────┴───────┴───────┘\n"
     ]
    },
    {
     "data": {
      "text/plain": [
       "()"
      ]
     },
     "execution_count": 4,
     "metadata": {},
     "output_type": "execute_result"
    }
   ],
   "source": [
    "let filtered_df = df.clone().lazy()\n",
    "    .select(&[col(\"Strata\"), col(\"Strata_Name\"), col(\"Year\"), col(\"Month\"), col(\"Count\")]).collect()?;\n",
    "println!(\"{}\", filtered_df)"
   ]
  },
  {
   "cell_type": "code",
   "execution_count": 9,
   "id": "aae4544f",
   "metadata": {},
   "outputs": [
    {
     "name": "stdout",
     "output_type": "stream",
     "text": [
      "shape: (3_240, 5)\n"
     ]
    },
    {
     "data": {
      "text/plain": [
       "()"
      ]
     },
     "execution_count": 9,
     "metadata": {},
     "output_type": "execute_result"
    },
    {
     "name": "stdout",
     "output_type": "stream",
     "text": [
      "┌──────────────────┬──────────────────┬──────┬───────┬───────┐\n",
      "│ Strata           ┆ Strata_Name      ┆ Year ┆ Month ┆ Count │\n",
      "│ ---              ┆ ---              ┆ ---  ┆ ---   ┆ ---   │\n",
      "│ str              ┆ str              ┆ i64  ┆ i64   ┆ i64   │\n",
      "╞══════════════════╪══════════════════╪══════╪═══════╪═══════╡\n",
      "│ Total Population ┆ Total Population ┆ 2014 ┆ 1     ┆ 23896 │\n",
      "│ Total Population ┆ Total Population ┆ 2014 ┆ 1     ┆ 1158  │\n",
      "│ Total Population ┆ Total Population ┆ 2014 ┆ 1     ┆ 5187  │\n",
      "│ Total Population ┆ Total Population ┆ 2014 ┆ 1     ┆ 1506  │\n",
      "│ Total Population ┆ Total Population ┆ 2014 ┆ 1     ┆ 831   │\n",
      "│ …                ┆ …                ┆ …    ┆ …     ┆ …     │\n",
      "│ Total Population ┆ Total Population ┆ 2022 ┆ 12    ┆ 459   │\n",
      "│ Total Population ┆ Total Population ┆ 2022 ┆ 12    ┆ 399   │\n",
      "│ Total Population ┆ Total Population ┆ 2022 ┆ 12    ┆ 906   │\n",
      "│ Total Population ┆ Total Population ┆ 2022 ┆ 12    ┆ 1750  │\n",
      "│ Total Population ┆ Total Population ┆ 2022 ┆ 12    ┆ 334   │\n",
      "└──────────────────┴──────────────────┴──────┴───────┴───────┘\n"
     ]
    }
   ],
   "source": [
    "let further_filter = filtered_df.clone().lazy().filter(\n",
    "    col(\"Strata\")\n",
    "    .gt_eq(lit(\"Total Population\"))\n",
    "    )\n",
    "    .collect()?;\n",
    "println!(\"{}\", further_filter)"
   ]
  },
  {
   "cell_type": "code",
   "execution_count": null,
   "id": "be9cf7ee",
   "metadata": {},
   "outputs": [],
   "source": []
  }
 ],
 "metadata": {
  "kernelspec": {
   "display_name": "Rust",
   "language": "rust",
   "name": "rust"
  },
  "language_info": {
   "codemirror_mode": "rust",
   "file_extension": ".rs",
   "mimetype": "text/rust",
   "name": "Rust",
   "pygment_lexer": "rust",
   "version": ""
  }
 },
 "nbformat": 4,
 "nbformat_minor": 5
}
