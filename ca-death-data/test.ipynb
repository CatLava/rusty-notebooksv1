{
 "cells": [
  {
   "cell_type": "code",
   "execution_count": 7,
   "id": "e72cac91",
   "metadata": {},
   "outputs": [],
   "source": [
    ":dep polars = {version = \"0.40.0\", features = [\"lazy\"]}\n",
    "use polars::prelude::*;"
   ]
  },
  {
   "cell_type": "code",
   "execution_count": 11,
   "id": "1d388210",
   "metadata": {},
   "outputs": [
    {
     "name": "stdout",
     "output_type": "stream",
     "text": [
      "shape: (40_032, 12)\n",
      "┌──────┬───────┬──────────────┬──────────────┬───┬───────┬─────────────┬─────────────┬─────────────┐\n",
      "│ Year ┆ Month ┆ Geography_Ty ┆ Strata       ┆ … ┆ Count ┆ Annotation_ ┆ Annotation_ ┆ Data_Revisi │\n",
      "│ ---  ┆ ---   ┆ pe           ┆ ---          ┆   ┆ ---   ┆ Code        ┆ Desc        ┆ on_Date     │\n",
      "│ i64  ┆ i64   ┆ ---          ┆ str          ┆   ┆ i64   ┆ ---         ┆ ---         ┆ ---         │\n",
      "│      ┆       ┆ str          ┆              ┆   ┆       ┆ i64         ┆ str         ┆ str         │\n",
      "╞══════╪═══════╪══════════════╪══════════════╪═══╪═══════╪═════════════╪═════════════╪═════════════╡\n",
      "│ 2014 ┆ 1     ┆ Occurrence   ┆ Total        ┆ … ┆ 23896 ┆ null        ┆ null        ┆ 12/06/2023  │\n",
      "│      ┆       ┆              ┆ Population   ┆   ┆       ┆             ┆             ┆             │\n",
      "│ 2014 ┆ 1     ┆ Occurrence   ┆ Age          ┆ … ┆ 185   ┆ null        ┆ null        ┆ 12/06/2023  │\n",
      "│ 2014 ┆ 1     ┆ Occurrence   ┆ Age          ┆ … ┆ 30    ┆ null        ┆ null        ┆ 12/06/2023  │\n",
      "│ 2014 ┆ 1     ┆ Occurrence   ┆ Age          ┆ … ┆ 47    ┆ null        ┆ null        ┆ 12/06/2023  │\n",
      "│ 2014 ┆ 1     ┆ Occurrence   ┆ Age          ┆ … ┆ 268   ┆ null        ┆ null        ┆ 12/06/2023  │\n",
      "│ …    ┆ …     ┆ …            ┆ …            ┆ … ┆ …     ┆ …           ┆ …           ┆ …           │\n",
      "│ 2022 ┆ 12    ┆ Residence    ┆ Race-Ethnici ┆ … ┆ null  ┆ 1           ┆ Cell        ┆ 12/06/2023  │\n",
      "│      ┆       ┆              ┆ ty           ┆   ┆       ┆             ┆ suppressed  ┆             │\n",
      "│      ┆       ┆              ┆              ┆   ┆       ┆             ┆ for small   ┆             │\n",
      "│      ┆       ┆              ┆              ┆   ┆       ┆             ┆ numb…       ┆             │\n",
      "│ 2022 ┆ 12    ┆ Residence    ┆ Race-Ethnici ┆ … ┆ 76    ┆ null        ┆ null        ┆ 12/06/2023  │\n",
      "│      ┆       ┆              ┆ ty           ┆   ┆       ┆             ┆             ┆             │\n",
      "│ 2022 ┆ 12    ┆ Residence    ┆ Race-Ethnici ┆ … ┆ null  ┆ 1           ┆ Cell        ┆ 12/06/2023  │\n",
      "│      ┆       ┆              ┆ ty           ┆   ┆       ┆             ┆ suppressed  ┆             │\n",
      "│      ┆       ┆              ┆              ┆   ┆       ┆             ┆ for small   ┆             │\n",
      "│      ┆       ┆              ┆              ┆   ┆       ┆             ┆ numb…       ┆             │\n",
      "│ 2022 ┆ 12    ┆ Residence    ┆ Race-Ethnici ┆ … ┆ 199   ┆ null        ┆ null        ┆ 12/06/2023  │\n",
      "│      ┆       ┆              ┆ ty           ┆   ┆       ┆             ┆             ┆             │\n",
      "│ 2022 ┆ 12    ┆ Residence    ┆ Race-Ethnici ┆ … ┆ null  ┆ 1           ┆ Cell        ┆ 12/06/2023  │\n",
      "│      ┆       ┆              ┆ ty           ┆   ┆       ┆             ┆ suppressed  ┆             │\n",
      "│      ┆       ┆              ┆              ┆   ┆       ┆             ┆ for small   ┆             │\n",
      "│      ┆       ┆              ┆              ┆   ┆       ┆             ┆ numb…       ┆             │\n",
      "└──────┴───────┴──────────────┴──────────────┴───┴───────┴─────────────┴─────────────┴─────────────┘\n"
     ]
    }
   ],
   "source": [
    "let q = LazyCsvReader::new(\"src/20231206_deaths_final_2014_2022_state_month_sup.csv\")\n",
    "    .with_has_header(true)\n",
    "    .finish()?;\n",
    "let df = q.collect()?;\n",
    "println!(\"{}\", df);"
   ]
  },
  {
   "cell_type": "code",
   "execution_count": 16,
   "id": "4c79f980",
   "metadata": {},
   "outputs": [
    {
     "name": "stderr",
     "output_type": "stream",
     "text": [
      "not found: unable to find column \"Total Population\"; valid columns: [\"Year\", \"Month\", \"Geography_Type\", \"Strata\", \"Strata_Name\", \"Cause\", \"Cause_Desc\", \"ICD_Revision\", \"Count\", \"Annotation_Code\", \"Annotation_Desc\", \"Data_Revision_Date\"]: 'filter' failed\n"
     ]
    }
   ],
   "source": [
    "let filtered_df = df.clone().lazy().filter(col(\"Strata\").eq(col(\"Total Population\"))).collect()?;\n",
    "println!(\"{}\", filtered_df)"
   ]
  },
  {
   "cell_type": "code",
   "execution_count": null,
   "id": "aae4544f",
   "metadata": {},
   "outputs": [],
   "source": []
  }
 ],
 "metadata": {
  "kernelspec": {
   "display_name": "Rust",
   "language": "rust",
   "name": "rust"
  },
  "language_info": {
   "codemirror_mode": "rust",
   "file_extension": ".rs",
   "mimetype": "text/rust",
   "name": "Rust",
   "pygment_lexer": "rust",
   "version": ""
  }
 },
 "nbformat": 4,
 "nbformat_minor": 5
}
