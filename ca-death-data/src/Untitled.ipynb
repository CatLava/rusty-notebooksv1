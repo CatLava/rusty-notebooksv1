{
 "cells": [
  {
   "cell_type": "code",
   "execution_count": 6,
   "id": "29be2e0c",
   "metadata": {},
   "outputs": [
    {
     "ename": "Error",
     "evalue": "failed to resolve: use of undeclared crate or module `polars`",
     "output_type": "error",
     "traceback": [
      "\u001b[31m[E0433] Error:\u001b[0m failed to resolve: use of undeclared crate or module `polars`"
     ]
    }
   ],
   "source": [
    "use polars::prelude::*;\n"
   ]
  },
  {
   "cell_type": "code",
   "execution_count": null,
   "id": "5ea30d97",
   "metadata": {},
   "outputs": [],
   "source": []
  }
 ],
 "metadata": {
  "kernelspec": {
   "display_name": "Rust",
   "language": "rust",
   "name": "rust"
  },
  "language_info": {
   "codemirror_mode": "rust",
   "file_extension": ".rs",
   "mimetype": "text/rust",
   "name": "Rust",
   "pygment_lexer": "rust",
   "version": ""
  }
 },
 "nbformat": 4,
 "nbformat_minor": 5
}
